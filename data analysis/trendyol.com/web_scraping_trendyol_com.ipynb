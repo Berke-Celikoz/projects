{
 "cells": [
  {
   "cell_type": "code",
   "execution_count": 5,
   "metadata": {},
   "outputs": [],
   "source": [
    "# import libraries\n",
    "from bs4 import BeautifulSoup\n",
    "import requests\n",
    "import pandas as pd"
   ]
  },
  {
   "cell_type": "code",
   "execution_count": 6,
   "metadata": {},
   "outputs": [],
   "source": [
    "data=[]\n",
    "\n",
    "def kargo(notice): # Is shipping free or not?\n",
    "    try:\n",
    "     a= str(notice.find(\"div\",class_=\"stmp fc\")) \n",
    "     return a[21:33]\n",
    "    except AttributeError:\n",
    "        return(\"KARGO BEDAVA DEĞİL\")\n",
    "\n",
    "def product(notice): # Product name\n",
    "    try:\n",
    "     notice = notice.find(\"span\", class_=\"prdct-desc-cntnr-name hasRatings\").text\n",
    "     return notice\n",
    "    except AttributeError:\n",
    "        return(\"Faulty\")\n",
    "\n",
    "def rating(notice): # How many people rated this product?\n",
    "    try:\n",
    "\n",
    "     notice = notice.find(\"span\", class_=\"ratingCount\").text.replace(\"(\",\"\").replace(\")\",\"\")\n",
    "     return notice\n",
    "    except AttributeError:\n",
    "        return(\"Faulty\")"
   ]
  },
  {
   "cell_type": "code",
   "execution_count": 7,
   "metadata": {},
   "outputs": [],
   "source": [
    "for page in range (1,99):\n",
    "\n",
    "    url = \"https://www.trendyol.com/sr?fl=sepetteurunler&sst=BEST_SELLER&pi=\" + str(page) # url of the website\n",
    "    headers = { \"User-Agent\": \"Mozilla/5.0 (Windows NT 10.0; Win64; x64) AppleWebKit/537.36 (KHTML, like Gecko) Chrome/107.0.0.0 Safari/537.36\", \"Accept-Encoding\":\"gzip, deflate\", \"Accept\":\"text/html,application/xhtml+xml,application/xml;q=0.9,*/*;q=0.8\", \"DNT\":\"1\",\"Connection\":\"close\", \"Upgrade-Insecure-Requests\":\"1\"}\n",
    "    page = requests.get(url, headers=headers).text # connect to website\n",
    "    soup = BeautifulSoup(page,\"html.parser\") # raw data\n",
    "    notices = soup.find_all(\"div\",class_=\"p-card-wrppr with-campaign-view\") # filtering the data\n",
    "\n",
    "    for notice in notices:\n",
    "        item={}\n",
    "        item[\"brand\"] = notice.find(\"span\", class_=\"prdct-desc-cntnr-ttl\").text # Supplier of the product\n",
    "        item[\"product\"] = product(notice) # Product name\n",
    "        item[\"rating\"] = rating(notice) # The number of people who rated the product\n",
    "        stars = notice.find_all('div',attrs={'class':'full'})\n",
    "        star_rating=0\n",
    "        # print(url) # activate this code to see the current page the program working on.\n",
    "\n",
    "        for i in stars: \n",
    "            style = i['style']\n",
    "            style = int(style.split(':',1)[1].split(\";\")[0].replace(\"%\",\"\"))/100 # in the source code %100 = 1 star. so we get rid of the % sign and divided it by 100 to see how many starts the product has.\n",
    "            star_rating= star_rating + style\n",
    "        item[\"star_rating\"] = star_rating\n",
    "        item[\"price\"] = notice.find(\"div\", class_=\"prc-box-dscntd\").text.replace(\" TL\",\"\")\n",
    "        item[\"shipment\"] = kargo(notice)\n",
    "        data.append(item)"
   ]
  },
  {
   "cell_type": "code",
   "execution_count": 8,
   "metadata": {},
   "outputs": [],
   "source": [
    "# saving the data as xlsx and csv\n",
    "df = pd.DataFrame(data)\n",
    "df.to_excel(\"trendyol.xlsx\")\n",
    "df.to_csv(\"trendyol.csv\")"
   ]
  }
 ],
 "metadata": {
  "kernelspec": {
   "display_name": "Python 3.10.8 64-bit",
   "language": "python",
   "name": "python3"
  },
  "language_info": {
   "codemirror_mode": {
    "name": "ipython",
    "version": 3
   },
   "file_extension": ".py",
   "mimetype": "text/x-python",
   "name": "python",
   "nbconvert_exporter": "python",
   "pygments_lexer": "ipython3",
   "version": "3.10.8"
  },
  "orig_nbformat": 4,
  "vscode": {
   "interpreter": {
    "hash": "9f0beddfd80ee2d69efd633e16e3bc9a013f1994506ef6aad59b446c0c692b66"
   }
  }
 },
 "nbformat": 4,
 "nbformat_minor": 2
}
