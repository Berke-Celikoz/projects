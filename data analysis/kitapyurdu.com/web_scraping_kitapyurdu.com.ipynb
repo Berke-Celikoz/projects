{
 "cells": [
  {
   "cell_type": "code",
   "execution_count": 1,
   "metadata": {},
   "outputs": [],
   "source": [
    "# importing libraries\n",
    "from bs4 import BeautifulSoup\n",
    "import requests\n",
    "import pandas as pd\n",
    "import re"
   ]
  },
  {
   "cell_type": "code",
   "execution_count": 2,
   "metadata": {},
   "outputs": [],
   "source": [
    "# function for getting book's old price. This is needed as some books dont have their old price, causing a problem when computer tries to get something that don't exist.\n",
    "def old_price(notice): \n",
    "    try:\n",
    "        book_old_price2 = notice.find_all(\"span\", class_=\"value\")[0].text.strip()\n",
    "        return book_old_price2\n",
    "    except IndexError:\n",
    "        pass"
   ]
  },
  {
   "cell_type": "code",
   "execution_count": 3,
   "metadata": {},
   "outputs": [],
   "source": [
    "# function for getting book's new price. This is needed as some books dont have their new price, causing a problem when computer tries to get something that don't exist.\n",
    "def new_price(notice): \n",
    "    try:\n",
    "        book_new_price2 = notice.find_all(\"span\", class_=\"value\")[1].text.strip()\n",
    "        return book_new_price2\n",
    "    except IndexError:\n",
    "        pass"
   ]
  },
  {
   "cell_type": "code",
   "execution_count": 5,
   "metadata": {},
   "outputs": [],
   "source": [
    "data=[] # data will be stored here.\n",
    "\n",
    "for page in range(1,87,1): # There is 86 pages that needs to be scraped.\n",
    "\n",
    "    url = \"https://www.kitapyurdu.com/index.php?route=product/category&page=\"+str(page)+\"&filter_category_all=true&path=1_41&filter_in_stock=1&sort=purchased_365&order=DESC&limit=100\" # url of the website\n",
    "    headers = { \"User-Agent\": \"Mozilla/5.0 (Windows NT 10.0; Win64; x64) AppleWebKit/537.36 (KHTML, like Gecko) Chrome/107.0.0.0 Safari/537.36\", \"Accept-Encoding\":\"gzip, deflate\", \"Accept\":\"text/html,application/xhtml+xml,application/xml;q=0.9,*/*;q=0.8\", \"DNT\":\"1\",\"Connection\":\"close\", \"Upgrade-Insecure-Requests\":\"1\"}\n",
    "    page = requests.get(url, headers=headers).text # connect to website.\n",
    "    soup = BeautifulSoup(page,\"html.parser\") # raw data.\n",
    "    books = soup.find_all(\"div\",class_=\"product-cr\") # filtering the data.\n",
    "\n",
    "    for book in books:\n",
    "        item={}\n",
    "        item[\"book_name\"] = book.find(\"div\", class_=\"name\").text # gets the name of the book.\n",
    "        item[\"book_publisher\"] = book.find(\"div\", class_=\"publisher\").text # gets the name of the publisher.\n",
    "        item[\"book_authors\"] = book.find(\"div\", class_=\"author\").text # gets the name of the authors.\n",
    "        item[\"book_old_price\"] = old_price(book) # gets the old price of the book.\n",
    "        item[\"book_new_price\"] = new_price(book) # gets the new price of the book.\n",
    "        book_rating = book.find(\"div\", class_=\"rating\").div[\"title\"]\n",
    "        item[\"book_reviews\"]= [int(s) for s in re.findall(r'\\d+', book_rating)] # gets the number of review for the book.\n",
    "        data.append(item)"
   ]
  },
  {
   "cell_type": "code",
   "execution_count": 6,
   "metadata": {},
   "outputs": [],
   "source": [
    "# Save the data to csv and xlsx\n",
    "df = pd.DataFrame(data)\n",
    "df.to_excel(\"kitapyurdu2.xlsx\")\n",
    "df.to_csv(\"kitapyurdu2.csv\")"
   ]
  }
 ],
 "metadata": {
  "kernelspec": {
   "display_name": "Python 3.10.8 64-bit",
   "language": "python",
   "name": "python3"
  },
  "language_info": {
   "codemirror_mode": {
    "name": "ipython",
    "version": 3
   },
   "file_extension": ".py",
   "mimetype": "text/x-python",
   "name": "python",
   "nbconvert_exporter": "python",
   "pygments_lexer": "ipython3",
   "version": "3.10.8"
  },
  "orig_nbformat": 4,
  "vscode": {
   "interpreter": {
    "hash": "9f0beddfd80ee2d69efd633e16e3bc9a013f1994506ef6aad59b446c0c692b66"
   }
  }
 },
 "nbformat": 4,
 "nbformat_minor": 2
}
