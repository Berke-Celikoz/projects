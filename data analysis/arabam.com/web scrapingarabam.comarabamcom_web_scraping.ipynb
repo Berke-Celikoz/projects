{
 "cells": [
  {
   "cell_type": "code",
   "execution_count": 1,
   "metadata": {},
   "outputs": [],
   "source": [
    "# import libraries\n",
    "from bs4 import BeautifulSoup\n",
    "import requests\n",
    "import pandas as pd"
   ]
  },
  {
   "cell_type": "code",
   "execution_count": 2,
   "metadata": {},
   "outputs": [],
   "source": [
    "data=[] # data will be stored here\n",
    "for page in range(1,51,1): # 50 pages will be scraped.\n",
    "    url = \"https://www.arabam.com/ikinci-el?take=50&page=\" + str(page) # url of the website\n",
    "    headers = { \"User-Agent\": \"Mozilla/5.0 (Windows NT 10.0; Win64; x64) AppleWebKit/537.36 (KHTML, like Gecko) Chrome/107.0.0.0 Safari/537.36\", \"Accept-Encoding\":\"gzip, deflate\", \"Accept\":\"text/html,application/xhtml+xml,application/xml;q=0.9,*/*;q=0.8\", \"DNT\":\"1\",\"Connection\":\"close\", \"Upgrade-Insecure-Requests\":\"1\"}\n",
    "    page = requests.get(url, headers=headers).text # connect to website\n",
    "    soup = BeautifulSoup(page,\"html.parser\") # raw data\n",
    "    notices = soup.find_all(\"tr\",class_=\"listing-list-item pr should-hover bg-white\") # filtering the data\n",
    "\n",
    "    for notice in notices:\n",
    "        item={}\n",
    "        item[\"model\"]= notice.find(\"div\",class_=\"listing-text-new word-break val-middle color-black2018\").text.strip() # model of the car\n",
    "        item[\"price\"]= notice.find(\"span\", class_=\"db no-wrap listing-price\").text.strip() # price of the car\n",
    "        item[\"year\"]= notice.find(\"td\", class_=\"listing-text\").text.strip() # Year(Model) of the car\n",
    "        item[\"province\"]= notice.find(\"span\", class_=\"\").text.strip() # Province (il)\n",
    "        item[\"date\"]= notice.find(\"td\", class_=\"listing-text tac\").text.strip() # Date\n",
    "        data.append(item)"
   ]
  },
  {
   "cell_type": "code",
   "execution_count": 3,
   "metadata": {},
   "outputs": [],
   "source": [
    "# export data to excel\n",
    "df = pd.DataFrame(data)\n",
    "df.to_excel(\"arabam.xlsx\")\n",
    "df.to_csv(\"arabam.csv\")"
   ]
  }
 ],
 "metadata": {
  "kernelspec": {
   "display_name": "Python 3.10.8 64-bit",
   "language": "python",
   "name": "python3"
  },
  "language_info": {
   "codemirror_mode": {
    "name": "ipython",
    "version": 3
   },
   "file_extension": ".py",
   "mimetype": "text/x-python",
   "name": "python",
   "nbconvert_exporter": "python",
   "pygments_lexer": "ipython3",
   "version": "3.10.8"
  },
  "orig_nbformat": 4,
  "vscode": {
   "interpreter": {
    "hash": "9f0beddfd80ee2d69efd633e16e3bc9a013f1994506ef6aad59b446c0c692b66"
   }
  }
 },
 "nbformat": 4,
 "nbformat_minor": 2
}
